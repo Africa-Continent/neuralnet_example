{
 "cells": [
  {
   "cell_type": "code",
   "execution_count": 1,
   "metadata": {},
   "outputs": [],
   "source": [
    "import numpy as np\n",
    "import matplotlib.pyplot as plt "
   ]
  },
  {
   "cell_type": "code",
   "execution_count": 2,
   "metadata": {},
   "outputs": [],
   "source": [
    "#config\n",
    "inputSize = 5\n",
    "outputSize = 3\n",
    "batchSize = 10\n",
    "testSize = 5\n",
    "epochs = 400\n",
    "learningRate = 0.01\n",
    "seed = 123456"
   ]
  },
  {
   "cell_type": "code",
   "execution_count": 3,
   "metadata": {},
   "outputs": [],
   "source": [
    "#create functions\n",
    "#Operator example in forward and backward (Mult)\n",
    "def forwardMult(A,B):\n",
    "    return np.matmul(A,B) \n",
    "\n",
    "def backwardMult(dC,A,B,dA,dB):\n",
    "    dA += np.matmul(dC,np.matrix.transpose(B))\n",
    "    dB += np.matmul(np.matrix.transpose(A),dC)\n",
    "    \n",
    "#Loss example in forward and backward (RMSE)\n",
    "def forwardloss(predictedOutput,realOutput):\n",
    "    if(predictedOutput.shape == realOutput.shape):\n",
    "        loss = np.mean( 0.5*np.square(predictedOutput - realOutput))       \n",
    "    else :\n",
    "        print(\"Shape of arrays not the same\")\n",
    "    return loss\n",
    "\n",
    "def backwardloss(predictedOutput,realOutput):\n",
    "    if(predictedOutput.shape == realOutput.shape):\n",
    "        deltaOutput = (predictedOutput - realOutput)/predictedOutput.size\n",
    "    else :\n",
    "        print(\"Shape of arrays not the same\")\n",
    "    return deltaOutput\n",
    "\n",
    "#Optimizer example (SGD)\n",
    "def updateweights(W,dW,learningRate):\n",
    "    W -= learningRate * dW"
   ]
  },
  {
   "cell_type": "code",
   "execution_count": 4,
   "metadata": {},
   "outputs": [],
   "source": [
    "#Generation of fake dataset - we generate random inputs and weights and calculate outputs\n",
    "np.random.seed(seed)\n",
    "inputArray = np.random.uniform(-5,5,(batchSize,inputSize))\n",
    "weights = np.random.uniform(-5,5,(inputSize,outputSize))\n",
    "outputArray = np.matmul(inputArray,weights)\n",
    "inputTest = np.random.uniform(-5,5,(testSize,inputSize))\n",
    "outputTest = np.matmul(inputTest,weights)"
   ]
  },
  {
   "cell_type": "code",
   "execution_count": 5,
   "metadata": {},
   "outputs": [
    {
     "data": {
      "text/plain": [
       "array([[-3.73030167,  4.66717838, -2.39523994,  3.97236524, -1.23250284],\n",
       "       [-1.63778256, -0.4862353 ,  3.40255083, -3.76897856,  0.43026202],\n",
       "       [-1.26987775, -0.52003175, -3.7055932 ,  3.59878707,  3.20388363],\n",
       "       [-1.47946461, -2.71112696,  2.76783751,  0.94783589, -3.62446443],\n",
       "       [ 3.52899781, -2.64492522, -3.53772767,  0.89868773,  0.74011775],\n",
       "       [-4.38730038,  0.90426003, -2.54650181, -1.59555063,  4.84728739],\n",
       "       [ 4.19540405, -4.62228312,  3.6154929 ,  2.53568845, -0.94821245],\n",
       "       [-1.56474125, -3.29082828, -1.0534099 ,  1.4166617 , -2.25407569],\n",
       "       [-0.37645666,  3.71371654, -0.98868778,  1.1058827 , -3.8203287 ],\n",
       "       [ 2.02184361, -0.85966335, -1.57654787,  0.95925321, -3.00135737]])"
      ]
     },
     "execution_count": 5,
     "metadata": {},
     "output_type": "execute_result"
    }
   ],
   "source": [
    "inputArray"
   ]
  },
  {
   "cell_type": "code",
   "execution_count": 6,
   "metadata": {},
   "outputs": [
    {
     "data": {
      "text/plain": [
       "array([[ 20.6768939 , -29.71868231,   5.75368214],\n",
       "       [  6.86816265,   7.61094193,  18.82294379],\n",
       "       [ -9.63726159, -26.41146376,  10.67733585],\n",
       "       [ 31.34877658,  33.75492349,  -2.63642922],\n",
       "       [-25.96702153,   2.45309506, -22.20144941],\n",
       "       [-12.87306094, -44.68975321,  37.15585938],\n",
       "       [  6.30264574,  48.26811154, -16.66583296],\n",
       "       [ 15.11446364,  15.44104618,  -5.16952458],\n",
       "       [ 14.12728662,  -3.6535083 , -17.79070525],\n",
       "       [  0.04972998,  14.70611177, -26.96576621]])"
      ]
     },
     "execution_count": 6,
     "metadata": {},
     "output_type": "execute_result"
    }
   ],
   "source": [
    "outputArray"
   ]
  },
  {
   "cell_type": "code",
   "execution_count": 7,
   "metadata": {},
   "outputs": [
    {
     "data": {
      "text/plain": [
       "array([[-3.65900761,  1.30699553,  1.39568218, -0.66510215, -3.4415294 ],\n",
       "       [ 3.62608983,  1.83046301, -4.14291102,  0.66102526, -3.50175146],\n",
       "       [-0.22545554,  3.48938265, -3.5985558 , -1.70449185,  1.3407411 ],\n",
       "       [ 1.19378493, -1.04957363,  1.72397815,  3.0998032 , -1.13000944],\n",
       "       [ 0.44758747,  4.88949362,  4.84982907, -1.29618208,  0.62941932]])"
      ]
     },
     "execution_count": 7,
     "metadata": {},
     "output_type": "execute_result"
    }
   ],
   "source": [
    "inputTest"
   ]
  },
  {
   "cell_type": "code",
   "execution_count": 8,
   "metadata": {},
   "outputs": [
    {
     "data": {
      "text/plain": [
       "array([[ 29.84199788,   5.23386209,   5.87002443],\n",
       "       [-14.53100643,  -0.74876053, -42.89115253],\n",
       "       [-21.19204332, -35.39753098,  -0.95828189],\n",
       "       [ 13.35977539,  20.35431271,  -7.6149863 ],\n",
       "       [  8.10210631,  -2.77530335,  12.13804306]])"
      ]
     },
     "execution_count": 8,
     "metadata": {},
     "output_type": "execute_result"
    }
   ],
   "source": [
    "outputTest"
   ]
  },
  {
   "cell_type": "code",
   "execution_count": 9,
   "metadata": {},
   "outputs": [],
   "source": [
    "#initialization of NN by other random weights\n",
    "nnWeights = np.random.uniform(-3,3,(inputSize,outputSize))\n",
    "deltaweights = np.zeros((inputSize,outputSize))\n",
    "deltainput = np.zeros((batchSize,inputSize))\n",
    "deltaoutput = np.zeros((inputSize,outputSize))"
   ]
  },
  {
   "cell_type": "code",
   "execution_count": 10,
   "metadata": {},
   "outputs": [
    {
     "data": {
      "text/plain": [
       "array([[-4.00263237,  2.34596222, -4.8345549 ],\n",
       "       [-0.186155  , -4.04061126, -0.02693667],\n",
       "       [ 3.38796274,  3.97333257,  2.32591519],\n",
       "       [ 2.58724364,  0.60657183, -0.28522073],\n",
       "       [-3.61231882, -4.05538867,  4.42256339]])"
      ]
     },
     "execution_count": 10,
     "metadata": {},
     "output_type": "execute_result"
    }
   ],
   "source": [
    "#Comparing the dataset weights \n",
    "weights"
   ]
  },
  {
   "cell_type": "code",
   "execution_count": 11,
   "metadata": {},
   "outputs": [
    {
     "data": {
      "text/plain": [
       "array([[-1.50136739,  2.85870823,  1.89927354],\n",
       "       [-2.73390942, -0.54100287, -2.82068023],\n",
       "       [-1.75259698,  0.7847937 ,  0.94378938],\n",
       "       [-1.50410391,  2.9587439 , -2.81435983],\n",
       "       [-0.86099938, -1.51593029, -1.87249127]])"
      ]
     },
     "execution_count": 11,
     "metadata": {},
     "output_type": "execute_result"
    }
   ],
   "source": [
    "#with the NN weights\n",
    "nnWeights"
   ]
  },
  {
   "cell_type": "code",
   "execution_count": 12,
   "metadata": {},
   "outputs": [
    {
     "name": "stdout",
     "output_type": "stream",
     "text": [
      "Epoch: 10 Loss (train): 139.093 Loss (test): 135.703\n",
      "Epoch: 20 Loss (train): 72.917 Loss (test): 97.018\n",
      "Epoch: 30 Loss (train): 42.783 Loss (test): 73.837\n",
      "Epoch: 40 Loss (train): 27.811 Loss (test): 58.390\n",
      "Epoch: 50 Loss (train): 19.624 Loss (test): 47.288\n",
      "Epoch: 60 Loss (train): 14.704 Loss (test): 38.904\n",
      "Epoch: 70 Loss (train): 11.493 Loss (test): 32.369\n",
      "Epoch: 80 Loss (train): 9.251 Loss (test): 27.163\n",
      "Epoch: 90 Loss (train): 7.602 Loss (test): 22.952\n",
      "Epoch: 100 Loss (train): 6.339 Loss (test): 19.504\n",
      "Epoch: 110 Loss (train): 5.343 Loss (test): 16.655\n",
      "Epoch: 120 Loss (train): 4.540 Loss (test): 14.280\n",
      "Epoch: 130 Loss (train): 3.881 Loss (test): 12.287\n",
      "Epoch: 140 Loss (train): 3.334 Loss (test): 10.605\n",
      "Epoch: 150 Loss (train): 2.875 Loss (test): 9.178\n",
      "Epoch: 160 Loss (train): 2.487 Loss (test): 7.961\n",
      "Epoch: 170 Loss (train): 2.157 Loss (test): 6.920\n",
      "Epoch: 180 Loss (train): 1.875 Loss (test): 6.025\n",
      "Epoch: 190 Loss (train): 1.632 Loss (test): 5.255\n",
      "Epoch: 200 Loss (train): 1.424 Loss (test): 4.589\n",
      "Epoch: 210 Loss (train): 1.244 Loss (test): 4.013\n",
      "Epoch: 220 Loss (train): 1.088 Loss (test): 3.513\n",
      "Epoch: 230 Loss (train): 0.953 Loss (test): 3.078\n",
      "Epoch: 240 Loss (train): 0.835 Loss (test): 2.699\n",
      "Epoch: 250 Loss (train): 0.732 Loss (test): 2.369\n",
      "Epoch: 260 Loss (train): 0.643 Loss (test): 2.080\n",
      "Epoch: 270 Loss (train): 0.565 Loss (test): 1.828\n",
      "Epoch: 280 Loss (train): 0.497 Loss (test): 1.607\n",
      "Epoch: 290 Loss (train): 0.437 Loss (test): 1.414\n",
      "Epoch: 300 Loss (train): 0.384 Loss (test): 1.244\n",
      "Epoch: 310 Loss (train): 0.338 Loss (test): 1.095\n",
      "Epoch: 320 Loss (train): 0.298 Loss (test): 0.964\n",
      "Epoch: 330 Loss (train): 0.262 Loss (test): 0.849\n",
      "Epoch: 340 Loss (train): 0.231 Loss (test): 0.748\n",
      "Epoch: 350 Loss (train): 0.204 Loss (test): 0.660\n",
      "Epoch: 360 Loss (train): 0.180 Loss (test): 0.581\n",
      "Epoch: 370 Loss (train): 0.159 Loss (test): 0.513\n",
      "Epoch: 380 Loss (train): 0.140 Loss (test): 0.452\n",
      "Epoch: 390 Loss (train): 0.123 Loss (test): 0.399\n",
      "Epoch: 400 Loss (train): 0.109 Loss (test): 0.352\n"
     ]
    }
   ],
   "source": [
    "historyTrain=[] #Used to record the history of loss\n",
    "historyTest=[]\n",
    "i = 1\n",
    "while i <= epochs:\n",
    "    #Forward pass train:\n",
    "    nnOutput = forwardMult(inputArray,nnWeights)\n",
    "    lossTrain = forwardloss(nnOutput,outputArray)\n",
    "    historyTrain.append(lossTrain)\n",
    "    \n",
    "    #Forward pass test:\n",
    "    nnTest = forwardMult(inputTest,nnWeights)\n",
    "    lossTest = forwardloss(nnTest,outputTest)\n",
    "    historyTest.append(lossTest)\n",
    "    #Print Loss every 50 epochs: \n",
    "    if(i%10==0):\n",
    "        print(\"Epoch: \" + str(i) + \" Loss (train): \" + \"{0:.3f}\".format(lossTrain) + \" Loss (test): \" + \"{0:.3f}\".format(lossTest))\n",
    "    \n",
    "    #Backpropagate\n",
    "    deltaoutput = backwardloss(nnOutput,outputArray)\n",
    "    backwardMult(deltaoutput,inputArray,nnWeights,deltainput,deltaweights)\n",
    "    \n",
    "    #Apply optimizer\n",
    "    updateweights(nnWeights,deltaweights, learningRate)\n",
    "    \n",
    "    #Reset deltas \n",
    "    deltainput = np.zeros((batchSize,inputSize))\n",
    "    deltaweights = np.zeros((inputSize,outputSize))\n",
    "    deltaoutput = np.zeros((inputSize,outputSize))\n",
    "    \n",
    "    #Start new epoch\n",
    "    i = i+1"
   ]
  },
  {
   "cell_type": "code",
   "execution_count": 13,
   "metadata": {},
   "outputs": [
    {
     "data": {
      "image/png": "[encoded data removed]",
      "text/plain": [
       "<Figure size 432x288 with 1 Axes>"
      ]
     },
     "metadata": {
      "needs_background": "light"
     },
     "output_type": "display_data"
    }
   ],
   "source": [
    "plt.plot(historyTrain)\n",
    "plt.plot(historyTest)\n",
    "plt.title('RMSE loss')\n",
    "plt.ylabel('Loss')\n",
    "plt.xlabel('Epoch')\n",
    "plt.legend(['train','test'], loc='upper right')\n",
    "plt.show()"
   ]
  },
  {
   "cell_type": "code",
   "execution_count": 14,
   "metadata": {},
   "outputs": [
    {
     "data": {
      "text/plain": [
       "array([[-4.00263237,  2.34596222, -4.8345549 ],\n",
       "       [-0.186155  , -4.04061126, -0.02693667],\n",
       "       [ 3.38796274,  3.97333257,  2.32591519],\n",
       "       [ 2.58724364,  0.60657183, -0.28522073],\n",
       "       [-3.61231882, -4.05538867,  4.42256339]])"
      ]
     },
     "execution_count": 14,
     "metadata": {},
     "output_type": "execute_result"
    }
   ],
   "source": [
    "# Original weights used to generate the dataset\n",
    "weights"
   ]
  },
  {
   "cell_type": "code",
   "execution_count": 15,
   "metadata": {},
   "outputs": [
    {
     "data": {
      "text/plain": [
       "array([[-4.04533436,  2.3788998 , -4.87272339],\n",
       "       [-0.29534094, -3.9852363 , -0.13807301],\n",
       "       [ 3.16059177,  4.05947631,  2.08047218],\n",
       "       [ 2.35157153,  0.6917928 , -0.54164365],\n",
       "       [-3.78222308, -3.98801605,  4.24041106]])"
      ]
     },
     "execution_count": 15,
     "metadata": {},
     "output_type": "execute_result"
    }
   ],
   "source": [
    "# Learned weights of the NN\n",
    "nnWeights"
   ]
  }
 ],
 "metadata": {
  "kernelspec": {
   "display_name": "Python 3",
   "language": "python",
   "name": "python3"
  },
  "language_info": {
   "codemirror_mode": {
    "name": "ipython",
    "version": 3
   },
   "file_extension": ".py",
   "mimetype": "text/x-python",
   "name": "python",
   "nbconvert_exporter": "python",
   "pygments_lexer": "ipython3",
   "version": "3.8.0"
  }
 },
 "nbformat": 4,
 "nbformat_minor": 2
}
