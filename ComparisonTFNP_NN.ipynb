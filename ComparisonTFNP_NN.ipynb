{
 "cells": [
  {
   "cell_type": "code",
   "execution_count": 1,
   "metadata": {},
   "outputs": [],
   "source": [
    "import numpy as np\n",
    "import tensorflow as tf\n",
    "import matplotlib.pyplot as plt \n",
    "import copy as cp"
   ]
  },
  {
   "cell_type": "code",
   "execution_count": 2,
   "metadata": {},
   "outputs": [],
   "source": [
    "#config\n",
    "inputSize = 5\n",
    "outputSize = 3\n",
    "batchSize = 10\n",
    "testSize = 5\n",
    "epochs = 400\n",
    "learningRate = 0.01\n",
    "seed = 123456"
   ]
  },
  {
   "cell_type": "code",
   "execution_count": 3,
   "metadata": {},
   "outputs": [],
   "source": [
    "#Generation of Dataset\n",
    "np.random.seed(seed)\n",
    "inputArray = np.random.uniform(-5,5,(batchSize,inputSize))\n",
    "weights = np.random.uniform(-5,5,(inputSize,outputSize))\n",
    "outputArray = np.matmul(inputArray,weights)\n",
    "inputTest = np.random.uniform(-5,5,(testSize,inputSize))\n",
    "outputTest = np.matmul(inputTest,weights)"
   ]
  },
  {
   "cell_type": "code",
   "execution_count": 4,
   "metadata": {},
   "outputs": [],
   "source": [
    "#initialization of NN by other random weights\n",
    "nnWeights = np.random.uniform(-3,3,(inputSize,outputSize))\n",
    "deltaweights = np.zeros((inputSize,outputSize))\n",
    "deltainput = np.zeros((batchSize,inputSize))\n",
    "deltaoutput = np.zeros((inputSize,outputSize))"
   ]
  },
  {
   "cell_type": "code",
   "execution_count": 5,
   "metadata": {},
   "outputs": [],
   "source": [
    "#Create tf versions of arrays\n",
    "np.random.seed(seed)\n",
    "inputArray_tf = tf.convert_to_tensor(cp.deepcopy(inputArray))\n",
    "weights_tf = tf.convert_to_tensor(cp.deepcopy(weights))\n",
    "outputArray_tf = tf.matmul(inputArray_tf,weights_tf)\n",
    "nnWeights_tf = tf.convert_to_tensor(cp.deepcopy(nnWeights))\n",
    "deltaweights_tf = tf.convert_to_tensor(deltaweights)\n",
    "deltainput_tf = tf.convert_to_tensor(deltainput)\n",
    "deltaoutput_tf = tf.convert_to_tensor(deltaoutput)"
   ]
  },
  {
   "cell_type": "code",
   "execution_count": 6,
   "metadata": {},
   "outputs": [],
   "source": [
    "#create functions\n",
    "#Operator example in forward and backward (Mult)\n",
    "def forwardMult(A,B):\n",
    "    return np.matmul(A,B) \n",
    "\n",
    "def backwardMult(dC,A,B,dA,dB):\n",
    "    dA += np.matmul(dC,np.matrix.transpose(B))\n",
    "    dB += np.matmul(np.matrix.transpose(A),dC)\n",
    "    \n",
    "#Loss example in forward and backward (RMSE)\n",
    "def forwardloss(predictedOutput,realOutput):\n",
    "    if(predictedOutput.shape == realOutput.shape):\n",
    "        loss = np.mean( 0.5*np.square(predictedOutput - realOutput))       \n",
    "    else :\n",
    "        print(\"Shape of arrays not the same\")\n",
    "    return loss\n",
    "\n",
    "def backwardloss(predictedOutput,realOutput):\n",
    "    if(predictedOutput.shape == realOutput.shape):\n",
    "        deltaOutput = (predictedOutput - realOutput)/predictedOutput.size\n",
    "    else :\n",
    "        print(\"Shape of arrays not the same\")\n",
    "    return deltaOutput\n",
    "\n",
    "#Optimizer example (SGD)\n",
    "def updateweights(W,dW,learningRate):\n",
    "    W -= learningRate * dW"
   ]
  },
  {
   "cell_type": "code",
   "execution_count": 7,
   "metadata": {},
   "outputs": [
    {
     "name": "stdout",
     "output_type": "stream",
     "text": [
      "Epoch: 10 Loss (NP): 139.093 Loss (TF): 139.093\n",
      "Epoch: 20 Loss (NP): 72.917 Loss (TF): 72.917\n",
      "Epoch: 30 Loss (NP): 42.783 Loss (TF): 42.783\n",
      "Epoch: 40 Loss (NP): 27.811 Loss (TF): 27.811\n",
      "Epoch: 50 Loss (NP): 19.624 Loss (TF): 19.624\n",
      "Epoch: 60 Loss (NP): 14.704 Loss (TF): 14.704\n",
      "Epoch: 70 Loss (NP): 11.493 Loss (TF): 11.493\n",
      "Epoch: 80 Loss (NP): 9.251 Loss (TF): 9.251\n",
      "Epoch: 90 Loss (NP): 7.602 Loss (TF): 7.602\n",
      "Epoch: 100 Loss (NP): 6.339 Loss (TF): 6.339\n",
      "Epoch: 110 Loss (NP): 5.343 Loss (TF): 5.343\n",
      "Epoch: 120 Loss (NP): 4.540 Loss (TF): 4.540\n",
      "Epoch: 130 Loss (NP): 3.881 Loss (TF): 3.881\n",
      "Epoch: 140 Loss (NP): 3.334 Loss (TF): 3.334\n",
      "Epoch: 150 Loss (NP): 2.875 Loss (TF): 2.875\n",
      "Epoch: 160 Loss (NP): 2.487 Loss (TF): 2.487\n",
      "Epoch: 170 Loss (NP): 2.157 Loss (TF): 2.157\n",
      "Epoch: 180 Loss (NP): 1.875 Loss (TF): 1.875\n",
      "Epoch: 190 Loss (NP): 1.632 Loss (TF): 1.632\n",
      "Epoch: 200 Loss (NP): 1.424 Loss (TF): 1.424\n",
      "Epoch: 210 Loss (NP): 1.244 Loss (TF): 1.244\n",
      "Epoch: 220 Loss (NP): 1.088 Loss (TF): 1.088\n",
      "Epoch: 230 Loss (NP): 0.953 Loss (TF): 0.953\n",
      "Epoch: 240 Loss (NP): 0.835 Loss (TF): 0.835\n",
      "Epoch: 250 Loss (NP): 0.732 Loss (TF): 0.732\n",
      "Epoch: 260 Loss (NP): 0.643 Loss (TF): 0.643\n",
      "Epoch: 270 Loss (NP): 0.565 Loss (TF): 0.565\n",
      "Epoch: 280 Loss (NP): 0.497 Loss (TF): 0.497\n",
      "Epoch: 290 Loss (NP): 0.437 Loss (TF): 0.437\n",
      "Epoch: 300 Loss (NP): 0.384 Loss (TF): 0.384\n",
      "Epoch: 310 Loss (NP): 0.338 Loss (TF): 0.338\n",
      "Epoch: 320 Loss (NP): 0.298 Loss (TF): 0.298\n",
      "Epoch: 330 Loss (NP): 0.262 Loss (TF): 0.262\n",
      "Epoch: 340 Loss (NP): 0.231 Loss (TF): 0.231\n",
      "Epoch: 350 Loss (NP): 0.204 Loss (TF): 0.204\n",
      "Epoch: 360 Loss (NP): 0.180 Loss (TF): 0.180\n",
      "Epoch: 370 Loss (NP): 0.159 Loss (TF): 0.159\n",
      "Epoch: 380 Loss (NP): 0.140 Loss (TF): 0.140\n",
      "Epoch: 390 Loss (NP): 0.123 Loss (TF): 0.123\n",
      "Epoch: 400 Loss (NP): 0.109 Loss (TF): 0.109\n"
     ]
    }
   ],
   "source": [
    "historyTrainNP=[] #Used to record the history of loss\n",
    "historyTrainTF=[]\n",
    "i = 1\n",
    "while i <= epochs:\n",
    "    with tf.Session() as session:  \n",
    "        with tf.GradientTape() as tape:\n",
    "            #Forward pass:\n",
    "            tape.watch(nnWeights_tf)\n",
    "            nnOutput = forwardMult(inputArray,nnWeights)\n",
    "            nnOutput_tf = tf.matmul(inputArray_tf,nnWeights_tf)\n",
    "            #print(nnOutput)\n",
    "            #print(nnOutput_tf.eval())\n",
    "            lossTrain = forwardloss(nnOutput,outputArray)\n",
    "            lossTF = tf.reduce_mean(0.5*tf.square(nnOutput_tf - outputArray_tf))\n",
    "            historyTrainNP.append(lossTrain)\n",
    "            historyTrainTF.append(lossTF.eval())\n",
    "            #print(lossTrain)\n",
    "            #print(lossTF.eval())\n",
    "            tape.watch(lossTF)\n",
    "            #Print Loss every 50 epochs: \n",
    "            if(i%10==0):\n",
    "                print(\"Epoch: \" + str(i) + \" Loss (NP): \" + \"{0:.3f}\".format(lossTrain) + \" Loss (TF): \" + \"{0:.3f}\".format(lossTF.eval()))\n",
    "\n",
    "            #Backpropagate\n",
    "            deltaoutput = backwardloss(nnOutput,outputArray)\n",
    "            backwardMult(deltaoutput,inputArray,nnWeights,deltainput,deltaweights)\n",
    "            deltaweights_tf = tape.gradient(lossTF,nnWeights_tf)\n",
    "\n",
    "            #Apply optimizer\n",
    "            #print(deltaweights)\n",
    "            #print(deltaweights_tf.eval())\n",
    "            updateweights(nnWeights,deltaweights, learningRate)\n",
    "            nnWeights_tf -= deltaweights_tf*learningRate\n",
    "            #Reset deltas \n",
    "            deltainput = np.zeros((batchSize,inputSize))\n",
    "            deltaweights = np.zeros((inputSize,outputSize))\n",
    "            deltaoutput = np.zeros((inputSize,outputSize))\n",
    "\n",
    "            #Start new epoch\n",
    "            i = i+1"
   ]
  },
  {
   "cell_type": "code",
   "execution_count": 8,
   "metadata": {},
   "outputs": [
    {
     "data": {
      "image/png": "[encoded data removed]",
      "text/plain": [
       "<Figure size 432x288 with 1 Axes>"
      ]
     },
     "metadata": {
      "needs_background": "light"
     },
     "output_type": "display_data"
    }
   ],
   "source": [
    "plt.plot(historyTrainNP)\n",
    "plt.plot(historyTrainTF)\n",
    "plt.title('RMSE loss')\n",
    "plt.ylabel('Loss')\n",
    "plt.xlabel('Epoch')\n",
    "plt.legend(['NumPy','Tensorflow'], loc='upper right')\n",
    "plt.show()"
   ]
  },
  {
   "cell_type": "code",
   "execution_count": null,
   "metadata": {},
   "outputs": [],
   "source": []
  }
 ],
 "metadata": {
  "kernelspec": {
   "display_name": "Python 3",
   "language": "python",
   "name": "python3"
  },
  "language_info": {
   "codemirror_mode": {
    "name": "ipython",
    "version": 3
   },
   "file_extension": ".py",
   "mimetype": "text/x-python",
   "name": "python",
   "nbconvert_exporter": "python",
   "pygments_lexer": "ipython3",
   "version": "3.8.0"
  }
 },
 "nbformat": 4,
 "nbformat_minor": 2
}
