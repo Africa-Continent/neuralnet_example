{
 "cells": [
  {
   "cell_type": "code",
   "execution_count": 1,
   "metadata": {},
   "outputs": [],
   "source": [
    "import numpy as np\n",
    "import tensorflow as tf"
   ]
  },
  {
   "cell_type": "code",
   "execution_count": 2,
   "metadata": {},
   "outputs": [],
   "source": [
    "#config\n",
    "inputSize = 5\n",
    "outputSize = 3\n",
    "batchSize = 10\n",
    "testSize = 5\n",
    "epochs = 400\n",
    "learningRate = 0.01\n",
    "seed = 123456"
   ]
  },
  {
   "cell_type": "code",
   "execution_count": 3,
   "metadata": {},
   "outputs": [],
   "source": [
    "#Generation of Dataset\n",
    "np.random.seed(seed)\n",
    "inputArray = np.random.uniform(-5,5,(batchSize,inputSize))\n",
    "weights = np.random.uniform(-5,5,(inputSize,outputSize))\n",
    "outputArray = np.matmul(inputArray,weights)\n",
    "inputTest = np.random.uniform(-5,5,(testSize,inputSize))\n",
    "outputTest = np.matmul(inputTest,weights)"
   ]
  },
  {
   "cell_type": "code",
   "execution_count": 4,
   "metadata": {},
   "outputs": [
    {
     "data": {
      "text/plain": [
       "array([[-3.73030167,  4.66717838, -2.39523994,  3.97236524, -1.23250284],\n",
       "       [-1.63778256, -0.4862353 ,  3.40255083, -3.76897856,  0.43026202],\n",
       "       [-1.26987775, -0.52003175, -3.7055932 ,  3.59878707,  3.20388363],\n",
       "       [-1.47946461, -2.71112696,  2.76783751,  0.94783589, -3.62446443],\n",
       "       [ 3.52899781, -2.64492522, -3.53772767,  0.89868773,  0.74011775],\n",
       "       [-4.38730038,  0.90426003, -2.54650181, -1.59555063,  4.84728739],\n",
       "       [ 4.19540405, -4.62228312,  3.6154929 ,  2.53568845, -0.94821245],\n",
       "       [-1.56474125, -3.29082828, -1.0534099 ,  1.4166617 , -2.25407569],\n",
       "       [-0.37645666,  3.71371654, -0.98868778,  1.1058827 , -3.8203287 ],\n",
       "       [ 2.02184361, -0.85966335, -1.57654787,  0.95925321, -3.00135737]])"
      ]
     },
     "execution_count": 4,
     "metadata": {},
     "output_type": "execute_result"
    }
   ],
   "source": [
    "inputArray"
   ]
  },
  {
   "cell_type": "code",
   "execution_count": 5,
   "metadata": {},
   "outputs": [
    {
     "data": {
      "text/plain": [
       "array([[ 20.6768939 , -29.71868231,   5.75368214],\n",
       "       [  6.86816265,   7.61094193,  18.82294379],\n",
       "       [ -9.63726159, -26.41146376,  10.67733585],\n",
       "       [ 31.34877658,  33.75492349,  -2.63642922],\n",
       "       [-25.96702153,   2.45309506, -22.20144941],\n",
       "       [-12.87306094, -44.68975321,  37.15585938],\n",
       "       [  6.30264574,  48.26811154, -16.66583296],\n",
       "       [ 15.11446364,  15.44104618,  -5.16952458],\n",
       "       [ 14.12728662,  -3.6535083 , -17.79070525],\n",
       "       [  0.04972998,  14.70611177, -26.96576621]])"
      ]
     },
     "execution_count": 5,
     "metadata": {},
     "output_type": "execute_result"
    }
   ],
   "source": [
    "outputArray"
   ]
  },
  {
   "cell_type": "code",
   "execution_count": 6,
   "metadata": {},
   "outputs": [
    {
     "data": {
      "text/plain": [
       "array([[-3.65900761,  1.30699553,  1.39568218, -0.66510215, -3.4415294 ],\n",
       "       [ 3.62608983,  1.83046301, -4.14291102,  0.66102526, -3.50175146],\n",
       "       [-0.22545554,  3.48938265, -3.5985558 , -1.70449185,  1.3407411 ],\n",
       "       [ 1.19378493, -1.04957363,  1.72397815,  3.0998032 , -1.13000944],\n",
       "       [ 0.44758747,  4.88949362,  4.84982907, -1.29618208,  0.62941932]])"
      ]
     },
     "execution_count": 6,
     "metadata": {},
     "output_type": "execute_result"
    }
   ],
   "source": [
    "inputTest"
   ]
  },
  {
   "cell_type": "code",
   "execution_count": 7,
   "metadata": {},
   "outputs": [
    {
     "data": {
      "text/plain": [
       "array([[ 29.84199788,   5.23386209,   5.87002443],\n",
       "       [-14.53100643,  -0.74876053, -42.89115253],\n",
       "       [-21.19204332, -35.39753098,  -0.95828189],\n",
       "       [ 13.35977539,  20.35431271,  -7.6149863 ],\n",
       "       [  8.10210631,  -2.77530335,  12.13804306]])"
      ]
     },
     "execution_count": 7,
     "metadata": {},
     "output_type": "execute_result"
    }
   ],
   "source": [
    "outputTest"
   ]
  },
  {
   "cell_type": "code",
   "execution_count": 8,
   "metadata": {},
   "outputs": [],
   "source": [
    "#initialization of NN by other random weights\n",
    "nnWeights = np.random.uniform(-3,3,(inputSize,outputSize))\n",
    "deltaweights = np.zeros((inputSize,outputSize))\n",
    "deltainput = np.zeros((batchSize,inputSize))\n",
    "deltaoutput = np.zeros((inputSize,outputSize))"
   ]
  },
  {
   "cell_type": "code",
   "execution_count": 9,
   "metadata": {},
   "outputs": [
    {
     "data": {
      "text/plain": [
       "array([[-4.00263237,  2.34596222, -4.8345549 ],\n",
       "       [-0.186155  , -4.04061126, -0.02693667],\n",
       "       [ 3.38796274,  3.97333257,  2.32591519],\n",
       "       [ 2.58724364,  0.60657183, -0.28522073],\n",
       "       [-3.61231882, -4.05538867,  4.42256339]])"
      ]
     },
     "execution_count": 9,
     "metadata": {},
     "output_type": "execute_result"
    }
   ],
   "source": [
    "weights"
   ]
  },
  {
   "cell_type": "code",
   "execution_count": 10,
   "metadata": {},
   "outputs": [
    {
     "data": {
      "text/plain": [
       "array([[-1.50136739,  2.85870823,  1.89927354],\n",
       "       [-2.73390942, -0.54100287, -2.82068023],\n",
       "       [-1.75259698,  0.7847937 ,  0.94378938],\n",
       "       [-1.50410391,  2.9587439 , -2.81435983],\n",
       "       [-0.86099938, -1.51593029, -1.87249127]])"
      ]
     },
     "execution_count": 10,
     "metadata": {},
     "output_type": "execute_result"
    }
   ],
   "source": [
    "nnWeights"
   ]
  },
  {
   "cell_type": "code",
   "execution_count": 11,
   "metadata": {},
   "outputs": [],
   "source": [
    "inputArray_tf = tf.convert_to_tensor(inputArray)\n",
    "weights_tf = tf.convert_to_tensor(weights)\n",
    "\n",
    "outputArray_tf = tf.matmul(inputArray_tf,weights_tf)\n",
    "\n",
    "nnWeights_tf = tf.convert_to_tensor(nnWeights)\n",
    "deltaweights_tf = tf.convert_to_tensor(deltaweights)\n",
    "deltainput_tf = tf.convert_to_tensor(deltainput)\n",
    "deltaoutput_tf = tf.convert_to_tensor(deltaoutput)"
   ]
  },
  {
   "cell_type": "code",
   "execution_count": 12,
   "metadata": {},
   "outputs": [
    {
     "name": "stdout",
     "output_type": "stream",
     "text": [
      "Epoch: 10 Loss (TF): 139.093\n",
      "Epoch: 20 Loss (TF): 72.917\n",
      "Epoch: 30 Loss (TF): 42.783\n",
      "Epoch: 40 Loss (TF): 27.811\n",
      "Epoch: 50 Loss (TF): 19.624\n",
      "Epoch: 60 Loss (TF): 14.704\n",
      "Epoch: 70 Loss (TF): 11.493\n",
      "Epoch: 80 Loss (TF): 9.251\n",
      "Epoch: 90 Loss (TF): 7.602\n",
      "Epoch: 100 Loss (TF): 6.339\n",
      "Epoch: 110 Loss (TF): 5.343\n",
      "Epoch: 120 Loss (TF): 4.540\n",
      "Epoch: 130 Loss (TF): 3.881\n",
      "Epoch: 140 Loss (TF): 3.334\n",
      "Epoch: 150 Loss (TF): 2.875\n",
      "Epoch: 160 Loss (TF): 2.487\n",
      "Epoch: 170 Loss (TF): 2.157\n",
      "Epoch: 180 Loss (TF): 1.875\n",
      "Epoch: 190 Loss (TF): 1.632\n",
      "Epoch: 200 Loss (TF): 1.424\n",
      "Epoch: 210 Loss (TF): 1.244\n",
      "Epoch: 220 Loss (TF): 1.088\n",
      "Epoch: 230 Loss (TF): 0.953\n",
      "Epoch: 240 Loss (TF): 0.835\n",
      "Epoch: 250 Loss (TF): 0.732\n",
      "Epoch: 260 Loss (TF): 0.643\n",
      "Epoch: 270 Loss (TF): 0.565\n",
      "Epoch: 280 Loss (TF): 0.497\n",
      "Epoch: 290 Loss (TF): 0.437\n",
      "Epoch: 300 Loss (TF): 0.384\n",
      "Epoch: 310 Loss (TF): 0.338\n",
      "Epoch: 320 Loss (TF): 0.298\n",
      "Epoch: 330 Loss (TF): 0.262\n",
      "Epoch: 340 Loss (TF): 0.231\n",
      "Epoch: 350 Loss (TF): 0.204\n",
      "Epoch: 360 Loss (TF): 0.180\n",
      "Epoch: 370 Loss (TF): 0.159\n",
      "Epoch: 380 Loss (TF): 0.140\n",
      "Epoch: 390 Loss (TF): 0.123\n",
      "Epoch: 400 Loss (TF): 0.109\n"
     ]
    }
   ],
   "source": [
    "historyTrainTF=[]\n",
    "i = 1\n",
    "while i <= epochs:\n",
    "    with tf.Session() as session:  \n",
    "        with tf.GradientTape() as tape:\n",
    "            #Forward pass:\n",
    "            tape.watch(nnWeights_tf)            \n",
    "            nnOutput_tf = tf.matmul(inputArray_tf,nnWeights_tf)\n",
    "            #print(nnOutput)\n",
    "            #print(nnOutput_tf.eval())           \n",
    "            lossTF = tf.reduce_mean(0.5*tf.square(nnOutput_tf - outputArray_tf))           \n",
    "            historyTrainTF.append(lossTF.eval())\n",
    "            #print(lossTrain)\n",
    "            #print(lossTF.eval())\n",
    "            tape.watch(lossTF)\n",
    "            #Print Loss every 50 epochs: \n",
    "            if(i%10==0):\n",
    "                print(\"Epoch: \" + str(i) + \" Loss (TF): \" + \"{0:.3f}\".format(lossTF.eval()))\n",
    "\n",
    "            #Backpropagate           \n",
    "            deltaweights_tf = tape.gradient(lossTF,nnWeights_tf)\n",
    "\n",
    "            #Apply optimizer\n",
    "            #print(deltaweights)\n",
    "            #print(deltaweights_tf.eval())\n",
    "            nnWeights_tf -= deltaweights_tf*learningRate\n",
    "\n",
    "            #Start new epoch\n",
    "            i = i+1"
   ]
  },
  {
   "cell_type": "code",
   "execution_count": null,
   "metadata": {},
   "outputs": [],
   "source": []
  }
 ],
 "metadata": {
  "kernelspec": {
   "display_name": "Python 3",
   "language": "python",
   "name": "python3"
  },
  "language_info": {
   "codemirror_mode": {
    "name": "ipython",
    "version": 3
   },
   "file_extension": ".py",
   "mimetype": "text/x-python",
   "name": "python",
   "nbconvert_exporter": "python",
   "pygments_lexer": "ipython3",
   "version": "3.8.0"
  }
 },
 "nbformat": 4,
 "nbformat_minor": 2
}
